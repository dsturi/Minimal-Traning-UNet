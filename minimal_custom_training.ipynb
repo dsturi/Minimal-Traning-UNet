{
  "nbformat": 4,
  "nbformat_minor": 0,
  "metadata": {
    "accelerator": "GPU",
    "colab": {
      "name": "Copy of SLEAP - Minimal custom training.ipynb",
      "provenance": [],
      "collapsed_sections": [],
      "machine_shape": "hm"
    },
    "kernelspec": {
      "display_name": "Python 3",
      "name": "python3"
    }
  },
  "cells": [
    {
      "cell_type": "markdown",
      "metadata": {
        "id": "BeeqrLbdupmE"
      },
      "source": [
        "# Install SLEAP\n",
        "Don't forget to set **Runtime** -> **Change runtime type...** -> **GPU** as the accelerator."
      ]
    },
    {
      "cell_type": "code",
      "metadata": {
        "colab": {
          "base_uri": "https://localhost:8080/"
        },
        "id": "BYxJ2rJOMW8B",
        "outputId": "342b4d24-5b04-41da-ab34-cde6ce85b2f5"
      },
      "source": [
        "!pip -q install sleap==1.1.0"
      ],
      "execution_count": null,
      "outputs": [
        {
          "output_type": "stream",
          "text": [
            "\u001b[K     |████████████████████████████████| 52.8MB 63kB/s \n",
            "\u001b[K     |████████████████████████████████| 1.4MB 50.8MB/s \n",
            "\u001b[K     |████████████████████████████████| 829kB 50.1MB/s \n",
            "\u001b[K     |████████████████████████████████| 235kB 56.9MB/s \n",
            "\u001b[K     |████████████████████████████████| 184kB 58.9MB/s \n",
            "\u001b[K     |████████████████████████████████| 21.6MB 1.3MB/s \n",
            "\u001b[K     |████████████████████████████████| 320.4MB 53kB/s \n",
            "\u001b[K     |████████████████████████████████| 911kB 53.8MB/s \n",
            "\u001b[K     |████████████████████████████████| 194kB 60.3MB/s \n",
            "\u001b[K     |████████████████████████████████| 61kB 10.1MB/s \n",
            "\u001b[K     |████████████████████████████████| 20.1MB 1.5MB/s \n",
            "\u001b[K     |████████████████████████████████| 165.5MB 95kB/s \n",
            "\u001b[K     |████████████████████████████████| 2.3MB 46.7MB/s \n",
            "\u001b[K     |████████████████████████████████| 51kB 8.8MB/s \n",
            "\u001b[K     |████████████████████████████████| 460kB 52.9MB/s \n",
            "\u001b[K     |████████████████████████████████| 51kB 7.6MB/s \n",
            "\u001b[K     |████████████████████████████████| 849kB 54.1MB/s \n",
            "\u001b[?25h  Building wheel for pykalman (setup.py) ... \u001b[?25l\u001b[?25hdone\n",
            "  Building wheel for qimage2ndarray (setup.py) ... \u001b[?25l\u001b[?25hdone\n",
            "  Building wheel for jsmin (setup.py) ... \u001b[?25l\u001b[?25hdone\n",
            "\u001b[31mERROR: datascience 0.10.6 has requirement folium==0.2.1, but you'll have folium 0.8.3 which is incompatible.\u001b[0m\n",
            "\u001b[31mERROR: albumentations 0.1.12 has requirement imgaug<0.2.7,>=0.2.5, but you'll have imgaug 0.3.0 which is incompatible.\u001b[0m\n"
          ],
          "name": "stdout"
        }
      ]
    },
    {
      "cell_type": "code",
      "metadata": {
        "id": "jftAOyvvuQeh",
        "colab": {
          "base_uri": "https://localhost:8080/"
        },
        "outputId": "3c8f0d53-dd42-4c68-ab0b-d40b04e6b52b"
      },
      "source": [
        "import sleap\n",
        "import numpy as np\n",
        "import tensorflow as tf\n",
        "from tensorflow.keras import layers\n",
        "import matplotlib.pyplot as plt\n",
        "import operator\n",
        "from sklearn.metrics import mean_squared_error\n",
        "from sklearn.model_selection import train_test_split\n",
        "\n",
        "sleap.versions()"
      ],
      "execution_count": null,
      "outputs": [
        {
          "output_type": "stream",
          "text": [
            "SLEAP: 1.1.0\n",
            "TensorFlow: 2.3.1\n",
            "Numpy: 1.19.5\n",
            "Python: 3.7.10\n",
            "OS: Linux-4.19.112+-x86_64-with-Ubuntu-18.04-bionic\n"
          ],
          "name": "stdout"
        }
      ]
    },
    {
      "cell_type": "markdown",
      "metadata": {
        "id": "wSdTJYOdu4L6"
      },
      "source": [
        "# Download training data"
      ]
    },
    {
      "cell_type": "code",
      "metadata": {
        "id": "sDIF3RKdM86u",
        "colab": {
          "base_uri": "https://localhost:8080/"
        },
        "outputId": "3611dad6-7aa7-4645-c435-4ca13900a2c7"
      },
      "source": [
        "!curl -L --output labels.slp https://www.dropbox.com/s/b990gxjt3d3j3jh/210205.sleap_wt_gold.13pt.pkg.slp?dl=1\n",
        "!ls -lah"
      ],
      "execution_count": null,
      "outputs": [
        {
          "output_type": "stream",
          "text": [
            "  % Total    % Received % Xferd  Average Speed   Time    Time     Time  Current\n",
            "                                 Dload  Upload   Total   Spent    Left  Speed\n",
            "  0     0    0     0    0     0      0      0 --:--:-- --:--:-- --:--:--     0\n",
            "  0     0    0     0    0     0      0      0 --:--:-- --:--:-- --:--:--     0\n",
            "100  773M  100  773M    0     0  81.8M      0  0:00:09  0:00:09 --:--:-- 63.9M\n",
            "total 774M\n",
            "drwxr-xr-x 1 root root 4.0K Apr 30 18:31 .\n",
            "drwxr-xr-x 1 root root 4.0K Apr 30 18:28 ..\n",
            "drwxr-xr-x 4 root root 4.0K Apr 21 13:38 .config\n",
            "-rw-r--r-- 1 root root 774M Apr 30 18:31 labels.slp\n",
            "drwxr-xr-x 1 root root 4.0K Apr 21 13:39 sample_data\n"
          ],
          "name": "stdout"
        }
      ]
    },
    {
      "cell_type": "markdown",
      "metadata": {
        "id": "5lugn7a_HC0Q"
      },
      "source": [
        "# Load the training data"
      ]
    },
    {
      "cell_type": "code",
      "metadata": {
        "id": "UMkSIZrTHCMr",
        "colab": {
          "base_uri": "https://localhost:8080/"
        },
        "outputId": "c8dc83f4-8430-4eb5-fbfe-b94a8e5537ec"
      },
      "source": [
        "# SLEAP Labels files (.slp) can include the images as well as labeled instances and\n",
        "# other metadata for a project.\n",
        " #[frames][instances=frames with labels]\n",
        "labels = sleap.load_file(\"labels.slp\")\n",
        "labels.describe()\n"
      ],
      "execution_count": null,
      "outputs": [
        {
          "output_type": "stream",
          "text": [
            "Skeleton: Skeleton(nodes=[head, thorax, abdomen, wingL, wingR, forelegL4, forelegR4, midlegL4, midlegR4, hindlegL4, hindlegR4, eyeL, eyeR], edges=[thorax->head, thorax->abdomen, thorax->wingL, thorax->wingR, thorax->forelegL4, thorax->forelegR4, thorax->midlegL4, thorax->midlegR4, thorax->hindlegL4, thorax->hindlegR4, head->eyeL, head->eyeR], symmetries=[forelegL4<->forelegR4, hindlegL4<->hindlegR4, wingL<->wingR, eyeL<->eyeR, midlegL4<->midlegR4])\n",
            "Videos: ['labels.slp', 'labels.slp', 'labels.slp', 'labels.slp', 'labels.slp', 'labels.slp', 'labels.slp', 'labels.slp', 'labels.slp', 'labels.slp', 'labels.slp', 'labels.slp', 'labels.slp', 'labels.slp', 'labels.slp', 'labels.slp', 'labels.slp', 'labels.slp', 'labels.slp', 'labels.slp', 'labels.slp', 'labels.slp', 'labels.slp', 'labels.slp', 'labels.slp', 'labels.slp', 'labels.slp', 'labels.slp', 'labels.slp', 'labels.slp']\n",
            "Frames (user/predicted): 2,000/0\n",
            "Instances (user/predicted): 4,000/0\n",
            "Tracks: [Track(spawned_on=0, name='female'), Track(spawned_on=0, name='male')]\n",
            "Suggestions: 3,000\n",
            "Provenance: {}\n"
          ],
          "name": "stdout"
        }
      ]
    },
    {
      "cell_type": "code",
      "metadata": {
        "id": "EK8DDPHDHBr_",
        "colab": {
          "base_uri": "https://localhost:8080/"
        },
        "outputId": "0008195d-d2b1-4521-a386-815cc6bf6fed"
      },
      "source": [
        "# Labels are list-like containers whose elements are LabeledFrames\n",
        "labels = labels.with_user_labels_only()\n",
        "\n",
        "labeled_frame = labels[0]\n",
        "# Let us divide the labels dataset into 3, 80% on a labels_train, 20% on labels_val_test\n",
        "labels_train, labels_val_test = train_test_split(labels.with_user_labels_only(), train_size=0.8, test_size=0.2)\n",
        "\n",
        "# And divide further on, 10% on labels_val and the other 10% on labels_test\n",
        "labels_val, labels_test = train_test_split(labels_val_test, train_size=0.5, test_size=0.5)\n",
        "\n",
        "print(f\"Number of labels: {len(labels)}\")\n",
        "print(\"Train: \", len(labels_train))\n",
        "print(\"Validation: \", len(labels_val))\n",
        "print(\"Test: \", len(labels_test))\n",
        "\n",
        "print(\"Compare that each list contains LabeledFrames\")\n",
        "print(\"Train->\", type(labels_train[0]),\", Validation->\", type(labels_val[0]), \", Testing->\", labels_test[0])\n",
        "\n",
        "labeled_frame"
      ],
      "execution_count": null,
      "outputs": [
        {
          "output_type": "stream",
          "text": [
            "Number of labels: 2000\n",
            "Train:  1600\n",
            "Validation:  200\n",
            "Test:  200\n",
            "Compare that each list contains LabeledFrames\n",
            "Train-> <class 'sleap.instance.LabeledFrame'> , Validation-> <class 'sleap.instance.LabeledFrame'> , Testing-> LabeledFrame(video=HDF5Video('labels.slp'), frame_idx=10800, instances=2)\n"
          ],
          "name": "stdout"
        },
        {
          "output_type": "execute_result",
          "data": {
            "text/plain": [
              "LabeledFrame(video=HDF5Video('labels.slp'), frame_idx=7455, instances=2)"
            ]
          },
          "metadata": {
            "tags": []
          },
          "execution_count": 6
        }
      ]
    },
    {
      "cell_type": "code",
      "metadata": {
        "id": "pP5uXrU3HX6o",
        "colab": {
          "base_uri": "https://localhost:8080/"
        },
        "outputId": "71330713-7789-4d94-e16a-33c2e11cbfa2"
      },
      "source": [
        "# LabeledFrames are containers for instances that were labeled in a single frame\n",
        "instance = labeled_frame[0]\n",
        "instance\n"
      ],
      "execution_count": null,
      "outputs": [
        {
          "output_type": "execute_result",
          "data": {
            "text/plain": [
              "Instance(video=Video(filename=labels.slp, shape=(55, 1024, 1024, 1), backend=HDF5Video), frame_idx=7455, points=[head: (633.5, 806.0), thorax: (589.2, 807.0), abdomen: (557.2, 813.5), wingL: (538.7, 812.6), wingR: (538.9, 814.8), forelegL4: (652.0, 797.0), forelegR4: (655.2, 814.1), midlegL4: (611.5, 779.4), midlegR4: (614.1, 862.1), hindlegL4: (540.4, 778.7), hindlegR4: (570.8, 843.3), eyeL: (621.4, 795.1), eyeR: (622.4, 816.8)], track=Track(spawned_on=0, name='female'))"
            ]
          },
          "metadata": {
            "tags": []
          },
          "execution_count": 7
        }
      ]
    },
    {
      "cell_type": "code",
      "metadata": {
        "id": "700fTPs4Hurg",
        "colab": {
          "base_uri": "https://localhost:8080/"
        },
        "outputId": "8c9891c6-8ff9-4444-99c8-ee0682174a79"
      },
      "source": [
        "# They can be converted to numpy arrays where each row corresponds to the coordinates\n",
        "# of a different body part:\n",
        "pts = instance.numpy()\n",
        "pts"
      ],
      "execution_count": null,
      "outputs": [
        {
          "output_type": "execute_result",
          "data": {
            "text/plain": [
              "rec.array([[633.53948229, 806.03863528],\n",
              "           [589.19035306, 807.03863528],\n",
              "           [557.15087078, 813.50056467],\n",
              "           [538.69299954, 812.58872353],\n",
              "           [538.94660133, 814.78180105],\n",
              "           [652.00028234, 797.03863528],\n",
              "           [655.24461549, 814.09569239],\n",
              "           [611.5       , 779.38494116],\n",
              "           [614.08309628, 862.14672415],\n",
              "           [540.41406264, 778.65699169],\n",
              "           [570.76953595, 843.28358376],\n",
              "           [621.39804036, 795.0546654 ],\n",
              "           [622.35635663, 816.77982951]],\n",
              "          dtype=float64)"
            ]
          },
          "metadata": {
            "tags": []
          },
          "execution_count": 8
        }
      ]
    },
    {
      "cell_type": "markdown",
      "metadata": {
        "id": "-vYsPusvviiu"
      },
      "source": [
        "# Setup training data generation\n",
        "\n",
        "For a top-down pipeline, the subnetwork (*centered instance model*) that takes cropped images as input and produces pose estimates as output requires **confidence maps** to train against as targets.\n",
        "\n",
        "Here we will create a pipeline that does the sampling, augmentation, data generation and\n",
        "batching so we can create our input/output pairs.\n",
        "\n",
        "## Helper functions\n",
        " One to set to Sleap Label Class (the list-like containers),\n",
        " the other to get the pipeline and centered-instance models."
      ]
    },
    {
      "cell_type": "code",
      "metadata": {
        "id": "3SuKuK6GIDLg",
        "colab": {
          "base_uri": "https://localhost:8080/"
        },
        "outputId": "52c5b067-fbfa-4caf-fea6-3f988faeea61"
      },
      "source": [
        "# First convert to sleap.io.dataset.Labels class our training list\n",
        "def toSleapLabelClass(dataset):\n",
        "  return sleap.io.dataset.Labels(dataset)\n",
        "\n",
        "# Then set to pipeline, and add transformations for the centered-instance model.\n",
        "def pipeline(dataset):\n",
        "  asSleapLabel = toSleapLabelClass(dataset)\n",
        "  pipe = asSleapLabel.with_user_labels_only().to_pipeline()\n",
        "  pipe += sleap.pipelines.ImgaugAugmenter.from_config(sleap.pipelines.AugmentationConfig(rotate=True, rotation_min_angle=-180, rotation_max_angle=180))\n",
        "  pipe += sleap.pipelines.Normalizer()\n",
        "  pipe += sleap.pipelines.InstanceCentroidFinder(center_on_anchor_part=True, anchor_part_names=\"thorax\", skeletons=labels.skeletons)\n",
        "  pipe += sleap.pipelines.InstanceCropper(crop_width=160, crop_height=160)\n",
        "  pipe += sleap.pipelines.InstanceConfidenceMapGenerator(sigma=1.5, output_stride=2)\n",
        "  pipe += sleap.pipelines.Batcher(batch_size=4, drop_remainder=True)\n",
        "  return pipe\n",
        "\n",
        "# Pipelining for each dataset\n",
        "p_train = pipeline(labels_train)\n",
        "p_val = pipeline(labels_val)\n",
        "p_test = pipeline(labels_test)\n",
        "\n",
        "# This pipeline will output dictionaries with tensors containing frame data:\n",
        "p_train.describe()"
      ],
      "execution_count": null,
      "outputs": [
        {
          "output_type": "stream",
          "text": [
            "          instance_image: type=EagerTensor, shape=(4, 160, 160, 1), dtype=tf.float32, device=/job:localhost/replica:0/task:0/device:CPU:0\n",
            "                    bbox: type=EagerTensor, shape=(4, 4), dtype=tf.float32, device=/job:localhost/replica:0/task:0/device:CPU:0\n",
            "         center_instance: type=EagerTensor, shape=(4, 13, 2), dtype=tf.float32, device=/job:localhost/replica:0/task:0/device:CPU:0\n",
            "     center_instance_ind: type=EagerTensor, shape=(4, 1), dtype=tf.int32, device=/job:localhost/replica:0/task:0/device:CPU:0\n",
            "           all_instances: type=EagerTensor, shape=(4, 2, 13, 2), dtype=tf.float32, device=/job:localhost/replica:0/task:0/device:CPU:0\n",
            "                centroid: type=EagerTensor, shape=(4, 2), dtype=tf.float32, device=/job:localhost/replica:0/task:0/device:CPU:0\n",
            "       full_image_height: type=EagerTensor, shape=(4, 1), dtype=tf.int32, device=/job:localhost/replica:0/task:0/device:CPU:0\n",
            "        full_image_width: type=EagerTensor, shape=(4, 1), dtype=tf.int32, device=/job:localhost/replica:0/task:0/device:CPU:0\n",
            "          raw_image_size: type=EagerTensor, shape=(4, 3), dtype=tf.int32, device=/job:localhost/replica:0/task:0/device:CPU:0\n",
            "             example_ind: type=EagerTensor, shape=(4, 1), dtype=tf.int64, device=/job:localhost/replica:0/task:0/device:CPU:0\n",
            "               video_ind: type=EagerTensor, shape=(4, 1), dtype=tf.int32, device=/job:localhost/replica:0/task:0/device:CPU:0\n",
            "               frame_ind: type=EagerTensor, shape=(4, 1), dtype=tf.int64, device=/job:localhost/replica:0/task:0/device:CPU:0\n",
            "                   scale: type=EagerTensor, shape=(4, 2), dtype=tf.float32, device=/job:localhost/replica:0/task:0/device:CPU:0\n",
            "           skeleton_inds: type=EagerTensor, shape=(4, 2), dtype=tf.int32, device=/job:localhost/replica:0/task:0/device:CPU:0\n",
            "instance_confidence_maps: type=EagerTensor, shape=(4, 80, 80, 13), dtype=tf.float32, device=/job:localhost/replica:0/task:0/device:CPU:0\n"
          ],
          "name": "stdout"
        }
      ]
    },
    {
      "cell_type": "code",
      "metadata": {
        "colab": {
          "base_uri": "https://localhost:8080/",
          "height": 1000
        },
        "id": "78KraXl9KAdp",
        "outputId": "0dd53593-aced-49ea-ee19-36d977b87bc8"
      },
      "source": [
        "# We can generate an example from the pipeline to play around with the data:\n",
        "print(\"Training\")\n",
        "ex = p_train.peek()\n",
        "print(type(ex))\n",
        "print(ex.keys())\n",
        "print(ex[\"instance_confidence_maps\"].shape)\n",
        "\n",
        "i = 0\n",
        "plt.figure()\n",
        "plt.subplot(1,2,1)\n",
        "plt.imshow(ex[\"instance_image\"][i].numpy().squeeze())\n",
        "plt.title(\"TRAIN:Image (input)\")\n",
        "plt.subplot(1,2,2)\n",
        "plt.imshow(ex[\"instance_confidence_maps\"][i].numpy().max(axis=-1))\n",
        "plt.title(\"TRAIN:Confidence maps (output)\")\n",
        "\n",
        "# We can generate an example from the pipeline to play around with the data:\n",
        "print(\"Validation\")\n",
        "ex_val = p_val.peek()\n",
        "print(type(ex_val))\n",
        "print(ex_val.keys())\n",
        "print(ex_val[\"instance_confidence_maps\"].shape)\n",
        "\n",
        "i = 0\n",
        "plt.figure()\n",
        "plt.subplot(1,2,1)\n",
        "plt.imshow(ex_val[\"instance_image\"][i].numpy().squeeze())\n",
        "plt.title(\"VAL:Image (input)\")\n",
        "plt.subplot(1,2,2)\n",
        "plt.imshow(ex_val[\"instance_confidence_maps\"][i].numpy().max(axis=-1))\n",
        "plt.title(\"VAL:Confidence maps (output)\")\n",
        "\n",
        "# We can generate an example from the pipeline to play around with the data:\n",
        "print(\"Test\")\n",
        "ex_test = p_test.peek()\n",
        "print(type(ex_val))\n",
        "print(ex_val.keys())\n",
        "print(ex_val[\"instance_confidence_maps\"].shape)\n",
        "\n",
        "i = 0\n",
        "plt.figure()\n",
        "plt.subplot(1,2,1)\n",
        "plt.imshow(ex_val[\"instance_image\"][i].numpy().squeeze())\n",
        "plt.title(\"ITEST:mage (input)\")\n",
        "plt.subplot(1,2,2)\n",
        "plt.imshow(ex_val[\"instance_confidence_maps\"][i].numpy().max(axis=-1))\n",
        "plt.title(\"TEST:Confidence maps (output)\")"
      ],
      "execution_count": null,
      "outputs": [
        {
          "output_type": "stream",
          "text": [
            "Training\n",
            "<class 'dict'>\n",
            "dict_keys(['instance_image', 'bbox', 'center_instance', 'center_instance_ind', 'all_instances', 'centroid', 'full_image_height', 'full_image_width', 'raw_image_size', 'example_ind', 'video_ind', 'frame_ind', 'scale', 'skeleton_inds', 'instance_confidence_maps'])\n",
            "(4, 80, 80, 13)\n",
            "(4, 160, 160, 1)\n",
            "(4, 4)\n",
            "(4, 13, 2)\n",
            "(4, 1)\n",
            "(4, 2, 13, 2)\n",
            "(4, 2)\n",
            "(4, 1)\n",
            "(4, 1)\n",
            "(4, 3)\n",
            "(4, 1)\n",
            "(4, 1)\n",
            "(4, 1)\n",
            "(4, 2)\n",
            "(4, 2)\n",
            "(4, 80, 80, 13)\n",
            "Validation\n",
            "<class 'dict'>\n",
            "dict_keys(['instance_image', 'bbox', 'center_instance', 'center_instance_ind', 'all_instances', 'centroid', 'full_image_height', 'full_image_width', 'raw_image_size', 'example_ind', 'video_ind', 'frame_ind', 'scale', 'skeleton_inds', 'instance_confidence_maps'])\n",
            "(4, 80, 80, 13)\n",
            "Test\n",
            "<class 'dict'>\n",
            "dict_keys(['instance_image', 'bbox', 'center_instance', 'center_instance_ind', 'all_instances', 'centroid', 'full_image_height', 'full_image_width', 'raw_image_size', 'example_ind', 'video_ind', 'frame_ind', 'scale', 'skeleton_inds', 'instance_confidence_maps'])\n",
            "(4, 80, 80, 13)\n"
          ],
          "name": "stdout"
        },
        {
          "output_type": "execute_result",
          "data": {
            "text/plain": [
              "Text(0.5, 1.0, 'TEST:Confidence maps (output)')"
            ]
          },
          "metadata": {
            "tags": []
          },
          "execution_count": 18
        },
        {
          "output_type": "display_data",
          "data": {
            "image/png": "[encoded data removed]",
            "text/plain": [
              "<Figure size 432x288 with 2 Axes>"
            ]
          },
          "metadata": {
            "tags": [],
            "needs_background": "light"
          }
        },
        {
          "output_type": "display_data",
          "data": {
            "image/png": "[encoded data removed]",
            "text/plain": [
              "<Figure size 432x288 with 2 Axes>"
            ]
          },
          "metadata": {
            "tags": [],
            "needs_background": "light"
          }
        },
        {
          "output_type": "display_data",
          "data": {
            "image/png": "[encoded data removed]",
            "text/plain": [
              "<Figure size 432x288 with 2 Axes>"
            ]
          },
          "metadata": {
            "tags": [],
            "needs_background": "light"
          }
        }
      ]
    },
    {
      "cell_type": "markdown",
      "metadata": {
        "id": "0yo95XzRKkba"
      },
      "source": [
        "# Setting up a neural network model\n",
        "\n",
        "Here we'll create a simple UNet CNN that is compatible with the input and output shapes\n",
        "that we're generating."
      ]
    },
    {
      "cell_type": "code",
      "metadata": {
        "colab": {
          "base_uri": "https://localhost:8080/"
        },
        "id": "kjshAqdqKyUI",
        "outputId": "9b063b76-2e18-494b-d0bc-f670e08d6b5d"
      },
      "source": [
        "# Instantiate the backbone builder.\n",
        "unet = sleap.nn.architectures.unet.UNet(filters=32, filters_rate=1.5, down_blocks=4, up_blocks=3, up_interpolate=True)\n",
        "\n",
        "# Create the input layer (see above for the dimensions)\n",
        "x_in = tf.keras.layers.Input((160, 160, 1))\n",
        "\n",
        "# Create the feature extractor backbone.\n",
        "x_features, x_intermediate = unet.make_backbone(x_in)\n",
        "\n",
        "# Do a 1x1 conv with linear activation to remap activations to the number of channels in\n",
        "# the confidence maps (see above)\n",
        "x_confmaps = tf.keras.layers.Conv2D(filters=13, kernel_size=1, strides=1, padding=\"same\")(x_features)\n",
        "\n",
        "# Create a Model that links the whole graph\n",
        "model = tf.keras.Model(x_in, x_confmaps)\n",
        "model.summary()\n",
        "\n"
      ],
      "execution_count": null,
      "outputs": [
        {
          "output_type": "stream",
          "text": [
            "Model: \"functional_1\"\n",
            "__________________________________________________________________________________________________\n",
            "Layer (type)                    Output Shape         Param #     Connected to                     \n",
            "==================================================================================================\n",
            "input_1 (InputLayer)            [(None, 160, 160, 1) 0                                            \n",
            "__________________________________________________________________________________________________\n",
            "stack0_enc0_conv0 (Conv2D)      (None, 160, 160, 32) 320         input_1[0][0]                    \n",
            "__________________________________________________________________________________________________\n",
            "stack0_enc0_act0_relu (Activati (None, 160, 160, 32) 0           stack0_enc0_conv0[0][0]          \n",
            "__________________________________________________________________________________________________\n",
            "stack0_enc0_conv1 (Conv2D)      (None, 160, 160, 32) 9248        stack0_enc0_act0_relu[0][0]      \n",
            "__________________________________________________________________________________________________\n",
            "stack0_enc0_act1_relu (Activati (None, 160, 160, 32) 0           stack0_enc0_conv1[0][0]          \n",
            "__________________________________________________________________________________________________\n",
            "stack0_enc1_pool (MaxPooling2D) (None, 80, 80, 32)   0           stack0_enc0_act1_relu[0][0]      \n",
            "__________________________________________________________________________________________________\n",
            "stack0_enc1_conv0 (Conv2D)      (None, 80, 80, 48)   13872       stack0_enc1_pool[0][0]           \n",
            "__________________________________________________________________________________________________\n",
            "stack0_enc1_act0_relu (Activati (None, 80, 80, 48)   0           stack0_enc1_conv0[0][0]          \n",
            "__________________________________________________________________________________________________\n",
            "stack0_enc1_conv1 (Conv2D)      (None, 80, 80, 48)   20784       stack0_enc1_act0_relu[0][0]      \n",
            "__________________________________________________________________________________________________\n",
            "stack0_enc1_act1_relu (Activati (None, 80, 80, 48)   0           stack0_enc1_conv1[0][0]          \n",
            "__________________________________________________________________________________________________\n",
            "stack0_enc2_pool (MaxPooling2D) (None, 40, 40, 48)   0           stack0_enc1_act1_relu[0][0]      \n",
            "__________________________________________________________________________________________________\n",
            "stack0_enc2_conv0 (Conv2D)      (None, 40, 40, 72)   31176       stack0_enc2_pool[0][0]           \n",
            "__________________________________________________________________________________________________\n",
            "stack0_enc2_act0_relu (Activati (None, 40, 40, 72)   0           stack0_enc2_conv0[0][0]          \n",
            "__________________________________________________________________________________________________\n",
            "stack0_enc2_conv1 (Conv2D)      (None, 40, 40, 72)   46728       stack0_enc2_act0_relu[0][0]      \n",
            "__________________________________________________________________________________________________\n",
            "stack0_enc2_act1_relu (Activati (None, 40, 40, 72)   0           stack0_enc2_conv1[0][0]          \n",
            "__________________________________________________________________________________________________\n",
            "stack0_enc3_pool (MaxPooling2D) (None, 20, 20, 72)   0           stack0_enc2_act1_relu[0][0]      \n",
            "__________________________________________________________________________________________________\n",
            "stack0_enc3_conv0 (Conv2D)      (None, 20, 20, 108)  70092       stack0_enc3_pool[0][0]           \n",
            "__________________________________________________________________________________________________\n",
            "stack0_enc3_act0_relu (Activati (None, 20, 20, 108)  0           stack0_enc3_conv0[0][0]          \n",
            "__________________________________________________________________________________________________\n",
            "stack0_enc3_conv1 (Conv2D)      (None, 20, 20, 108)  105084      stack0_enc3_act0_relu[0][0]      \n",
            "__________________________________________________________________________________________________\n",
            "stack0_enc3_act1_relu (Activati (None, 20, 20, 108)  0           stack0_enc3_conv1[0][0]          \n",
            "__________________________________________________________________________________________________\n",
            "stack0_enc4_last_pool (MaxPooli (None, 10, 10, 108)  0           stack0_enc3_act1_relu[0][0]      \n",
            "__________________________________________________________________________________________________\n",
            "stack0_enc5_middle_expand_conv0 (None, 10, 10, 162)  157626      stack0_enc4_last_pool[0][0]      \n",
            "__________________________________________________________________________________________________\n",
            "stack0_enc5_middle_expand_act0_ (None, 10, 10, 162)  0           stack0_enc5_middle_expand_conv0[0\n",
            "__________________________________________________________________________________________________\n",
            "stack0_enc6_middle_contract_con (None, 10, 10, 162)  236358      stack0_enc5_middle_expand_act0_re\n",
            "__________________________________________________________________________________________________\n",
            "stack0_enc6_middle_contract_act (None, 10, 10, 162)  0           stack0_enc6_middle_contract_conv0\n",
            "__________________________________________________________________________________________________\n",
            "stack0_dec0_s16_to_s8_interp_bi (None, 20, 20, 162)  0           stack0_enc6_middle_contract_act0_\n",
            "__________________________________________________________________________________________________\n",
            "stack0_dec0_s16_to_s8_skip_conc (None, 20, 20, 270)  0           stack0_enc3_act1_relu[0][0]      \n",
            "                                                                 stack0_dec0_s16_to_s8_interp_bili\n",
            "__________________________________________________________________________________________________\n",
            "stack0_dec0_s16_to_s8_refine_co (None, 20, 20, 108)  262548      stack0_dec0_s16_to_s8_skip_concat\n",
            "__________________________________________________________________________________________________\n",
            "stack0_dec0_s16_to_s8_refine_co (None, 20, 20, 108)  0           stack0_dec0_s16_to_s8_refine_conv\n",
            "__________________________________________________________________________________________________\n",
            "stack0_dec0_s16_to_s8_refine_co (None, 20, 20, 108)  105084      stack0_dec0_s16_to_s8_refine_conv\n",
            "__________________________________________________________________________________________________\n",
            "stack0_dec0_s16_to_s8_refine_co (None, 20, 20, 108)  0           stack0_dec0_s16_to_s8_refine_conv\n",
            "__________________________________________________________________________________________________\n",
            "stack0_dec1_s8_to_s4_interp_bil (None, 40, 40, 108)  0           stack0_dec0_s16_to_s8_refine_conv\n",
            "__________________________________________________________________________________________________\n",
            "stack0_dec1_s8_to_s4_skip_conca (None, 40, 40, 180)  0           stack0_enc2_act1_relu[0][0]      \n",
            "                                                                 stack0_dec1_s8_to_s4_interp_bilin\n",
            "__________________________________________________________________________________________________\n",
            "stack0_dec1_s8_to_s4_refine_con (None, 40, 40, 72)   116712      stack0_dec1_s8_to_s4_skip_concat[\n",
            "__________________________________________________________________________________________________\n",
            "stack0_dec1_s8_to_s4_refine_con (None, 40, 40, 72)   0           stack0_dec1_s8_to_s4_refine_conv0\n",
            "__________________________________________________________________________________________________\n",
            "stack0_dec1_s8_to_s4_refine_con (None, 40, 40, 72)   46728       stack0_dec1_s8_to_s4_refine_conv0\n",
            "__________________________________________________________________________________________________\n",
            "stack0_dec1_s8_to_s4_refine_con (None, 40, 40, 72)   0           stack0_dec1_s8_to_s4_refine_conv1\n",
            "__________________________________________________________________________________________________\n",
            "stack0_dec2_s4_to_s2_interp_bil (None, 80, 80, 72)   0           stack0_dec1_s8_to_s4_refine_conv1\n",
            "__________________________________________________________________________________________________\n",
            "stack0_dec2_s4_to_s2_skip_conca (None, 80, 80, 120)  0           stack0_enc1_act1_relu[0][0]      \n",
            "                                                                 stack0_dec2_s4_to_s2_interp_bilin\n",
            "__________________________________________________________________________________________________\n",
            "stack0_dec2_s4_to_s2_refine_con (None, 80, 80, 48)   51888       stack0_dec2_s4_to_s2_skip_concat[\n",
            "__________________________________________________________________________________________________\n",
            "stack0_dec2_s4_to_s2_refine_con (None, 80, 80, 48)   0           stack0_dec2_s4_to_s2_refine_conv0\n",
            "__________________________________________________________________________________________________\n",
            "stack0_dec2_s4_to_s2_refine_con (None, 80, 80, 48)   20784       stack0_dec2_s4_to_s2_refine_conv0\n",
            "__________________________________________________________________________________________________\n",
            "stack0_dec2_s4_to_s2_refine_con (None, 80, 80, 48)   0           stack0_dec2_s4_to_s2_refine_conv1\n",
            "__________________________________________________________________________________________________\n",
            "conv2d (Conv2D)                 (None, 80, 80, 13)   637         stack0_dec2_s4_to_s2_refine_conv1\n",
            "==================================================================================================\n",
            "Total params: 1,295,669\n",
            "Trainable params: 1,295,669\n",
            "Non-trainable params: 0\n",
            "__________________________________________________________________________________________________\n"
          ],
          "name": "stdout"
        }
      ]
    },
    {
      "cell_type": "markdown",
      "metadata": {
        "id": "gEfgZT4hLyW4"
      },
      "source": [
        "# Train the model\n",
        "\n",
        "Now we have everything we need to do basic training!\n",
        "\n",
        "Let's set up a custom training loop that trains on each batch of data from our pipeline.\n",
        "\n",
        "See [this guide](https://www.tensorflow.org/guide/keras/writing_a_training_loop_from_scratch) for more info on how to customize the training process in TensorFlow."
      ]
    },
    {
      "cell_type": "code",
      "metadata": {
        "colab": {
          "base_uri": "https://localhost:8080/"
        },
        "id": "3IKZi6FRL5e_",
        "outputId": "13e3e74e-aa5c-4abb-e5a6-a431d78a4c5a"
      },
      "source": [
        "# Setup the optimizer and loss function.\n",
        "optimizer = tf.keras.optimizers.Adam(learning_rate=1e-4)\n",
        "loss_fn = tf.keras.losses.MeanSquaredError()\n",
        "\n",
        "# Define a \"training step\" function. This does the forward/backward passes and applies\n",
        "# the gradients to update the model weights.\n",
        "@tf.function\n",
        "def train_step(ex):\n",
        "    with tf.GradientTape() as tape:\n",
        "        predicted_confmaps = model(ex[\"instance_image\"])\n",
        "        loss_value = loss_fn(ex[\"instance_confidence_maps\"], predicted_confmaps)\n",
        "    grads = tape.gradient(loss_value, model.trainable_weights)\n",
        "    optimizer.apply_gradients(zip(grads, model.trainable_weights))\n",
        "\n",
        "    return loss_value\n",
        "\n",
        "# Training loop, go!\n",
        "epochs = 3\n",
        "loss_val = []\n",
        "for epoch in range(epochs):\n",
        "    for step, ex in enumerate(p_train.make_dataset()):\n",
        "        loss_val = train_step(ex)\n",
        "        if step % 100 == 0:\n",
        "            print(f\"Epoch {epoch:03d} | Step {step:03d} | loss = {loss_val:.5f}\")"
      ],
      "execution_count": null,
      "outputs": [
        {
          "output_type": "stream",
          "text": [
            "Epoch 000 | Step 000 | loss = 0.00116\n",
            "Epoch 000 | Step 100 | loss = 0.00103\n",
            "Epoch 000 | Step 200 | loss = 0.00105\n",
            "Epoch 000 | Step 300 | loss = 0.00101\n",
            "Epoch 000 | Step 400 | loss = 0.00095\n",
            "Epoch 000 | Step 500 | loss = 0.00093\n",
            "Epoch 000 | Step 600 | loss = 0.00093\n",
            "Epoch 000 | Step 700 | loss = 0.00085\n",
            "Epoch 001 | Step 000 | loss = 0.00082\n",
            "Epoch 001 | Step 100 | loss = 0.00080\n",
            "Epoch 001 | Step 200 | loss = 0.00074\n",
            "Epoch 001 | Step 300 | loss = 0.00072\n",
            "Epoch 001 | Step 400 | loss = 0.00057\n",
            "Epoch 001 | Step 500 | loss = 0.00068\n",
            "Epoch 001 | Step 600 | loss = 0.00059\n",
            "Epoch 001 | Step 700 | loss = 0.00059\n",
            "Epoch 002 | Step 000 | loss = 0.00052\n",
            "Epoch 002 | Step 100 | loss = 0.00064\n",
            "Epoch 002 | Step 200 | loss = 0.00050\n",
            "Epoch 002 | Step 300 | loss = 0.00054\n",
            "Epoch 002 | Step 400 | loss = 0.00039\n",
            "Epoch 002 | Step 500 | loss = 0.00055\n",
            "Epoch 002 | Step 600 | loss = 0.00045\n",
            "Epoch 002 | Step 700 | loss = 0.00046\n"
          ],
          "name": "stdout"
        }
      ]
    },
    {
      "cell_type": "code",
      "metadata": {
        "colab": {
          "base_uri": "https://localhost:8080/"
        },
        "id": "UzIu5cxVXxUZ",
        "outputId": "5e2eff48-ffa1-464a-964d-cc858acebe15"
      },
      "source": [
        "model.compile(optimizer,loss_fn)\n",
        "print(np.mean(loss_val))"
      ],
      "execution_count": null,
      "outputs": [
        {
          "output_type": "stream",
          "text": [
            "0.00055482035\n"
          ],
          "name": "stdout"
        }
      ]
    },
    {
      "cell_type": "markdown",
      "metadata": {
        "id": "oMWQn-YsO1ok"
      },
      "source": [
        "Cool! We did some training -- let's visualize how well the model is doing so far:"
      ]
    },
    {
      "cell_type": "markdown",
      "metadata": {
        "id": "rbxSHwQWN40b"
      },
      "source": [
        "### Helper Functions\n",
        "Here we set some functions to get the average RMSE (root mean squared error) and another function to get (x,y) coordinates of the generated heatmaps."
      ]
    },
    {
      "cell_type": "code",
      "metadata": {
        "id": "XYr80l12N3Lb"
      },
      "source": [
        "# Get RMSE of GT and Prediction\n",
        "def get_rmse(ground_truth, prediction):\n",
        "  return mean_squared_error(ground_truth, prediction, squared=False)\n",
        "\n",
        "def avg_rmse(list_of_GT_indx, list_of_Pred_indx):\n",
        "  rmse_list = list()\n",
        "\n",
        "  for gt, pred in zip(list_of_GT_indx, list_of_Pred_indx):\n",
        "    for gtXY, predXY in zip(gt, pred):\n",
        "      rmse_list.append(get_rmse(gtXY, predXY))\n",
        "    \n",
        "  return sum(rmse_list)/len(rmse_list)\n",
        "\n",
        "# Get Indexes for independent batches\n",
        "def getIdx(maps):\n",
        "  #Get sizes for batches and heatmaps\n",
        "  sizeOfBatch = maps.shape[0]\n",
        "  sizeOfHeatMaps = maps.shape[3]\n",
        "\n",
        "  #Get indexes for each individual heatmap\n",
        "  list_of_indx = list()\n",
        "  for i in range(0,sizeOfBatch):\n",
        "    listIdx = list()\n",
        "    for j in range (0,sizeOfHeatMaps):\n",
        "      listIdx.append(np.unravel_index(maps[i,:,:,j].numpy().argmax(), maps[i,:,:,j].numpy().shape))\n",
        "    list_of_indx.append(listIdx)\n",
        "  # list_of_indx is a list of list that contains the coordinates for each batch [[(x01,y01),(x02,y02)..(x0j,y0j)],..,[(xi1,yi1)..(xij,yij)]]\n",
        "  return list_of_indx\n"
      ],
      "execution_count": null,
      "outputs": []
    },
    {
      "cell_type": "code",
      "metadata": {
        "colab": {
          "base_uri": "https://localhost:8080/"
        },
        "id": "qBkUWc_6OOEr",
        "outputId": "95a11243-8a5b-4f60-c0c9-323f312fdd66"
      },
      "source": [
        "ex = p_train.peek()\n",
        "predicted_confmaps = model(ex[\"instance_image\"])\n",
        "ground_truth = ex[\"instance_confidence_maps\"]\n",
        "\n",
        "#print(p_train.shape())\n",
        "list_Pred_Idx = getIdx(predicted_confmaps)\n",
        "list_GT_Idx = getIdx(ground_truth)\n",
        "\n",
        "ex_val = p_val.peek()\n",
        "pred_conf_val = model(ex_val[\"instance_image\"], training=False)\n",
        "ground_truth_val = ex_val[\"instance_confidence_maps\"]\n",
        "\n",
        "list_Pred_Idx_val = getIdx(predicted_confmaps)\n",
        "list_GT_Idx_val = getIdx(ground_truth)\n",
        "# RMSE\n",
        "print(\"Average RMSE: \", avg_rmse(list_GT_Idx, list_Pred_Idx))"
      ],
      "execution_count": null,
      "outputs": [
        {
          "output_type": "stream",
          "text": [
            "Average RMSE:  1.274963375044412\n"
          ],
          "name": "stdout"
        }
      ]
    },
    {
      "cell_type": "markdown",
      "metadata": {
        "id": "F4k5xV1l-k7Y"
      },
      "source": [
        "# Let us do some plotting on the training set\n",
        "With the helper functions above we can plot\n",
        "on our trained set and compare the instance ground truth\n",
        "and predicted confidence maps."
      ]
    },
    {
      "cell_type": "code",
      "metadata": {
        "colab": {
          "base_uri": "https://localhost:8080/",
          "height": 232
        },
        "id": "FcvBYA_--jd4",
        "outputId": "936b8b36-1e37-4035-8715-a5a1f3d0e1da"
      },
      "source": [
        "# Plotting Predicted and GT\n",
        "fig, (ax1,ax2) = plt.subplots(1,2)\n",
        "for batch_pred, batch_gt in zip(list_Pred_Idx,list_GT_Idx):\n",
        "  for maps_pred, maps_gt in zip(batch_pred,batch_gt):\n",
        "      xPred, yPred = zip(maps_pred)\n",
        "      ax1.scatter(xPred, yPred, c=\"green\")\n",
        "      ax1.set_title(\"Predicted Confmaps\")\n",
        "      xGT, yGT = zip(maps_gt)\n",
        "      ax2.scatter(xGT, yGT, c=\"red\")\n",
        "      ax2.set_title(\"Ground Truth\")"
      ],
      "execution_count": null,
      "outputs": [
        {
          "output_type": "error",
          "ename": "NameError",
          "evalue": "ignored",
          "traceback": [
            "\u001b[0;31m---------------------------------------------------------------------------\u001b[0m",
            "\u001b[0;31mNameError\u001b[0m                                 Traceback (most recent call last)",
            "\u001b[0;32m<ipython-input-1-c3a4d63c0495>\u001b[0m in \u001b[0;36m<module>\u001b[0;34m()\u001b[0m\n\u001b[1;32m      1\u001b[0m \u001b[0;31m# Plotting Predicted and GT\u001b[0m\u001b[0;34m\u001b[0m\u001b[0;34m\u001b[0m\u001b[0;34m\u001b[0m\u001b[0m\n\u001b[0;32m----> 2\u001b[0;31m \u001b[0mfig\u001b[0m\u001b[0;34m,\u001b[0m \u001b[0;34m(\u001b[0m\u001b[0max1\u001b[0m\u001b[0;34m,\u001b[0m\u001b[0max2\u001b[0m\u001b[0;34m)\u001b[0m \u001b[0;34m=\u001b[0m \u001b[0mplt\u001b[0m\u001b[0;34m.\u001b[0m\u001b[0msubplots\u001b[0m\u001b[0;34m(\u001b[0m\u001b[0;36m1\u001b[0m\u001b[0;34m,\u001b[0m\u001b[0;36m2\u001b[0m\u001b[0;34m)\u001b[0m\u001b[0;34m\u001b[0m\u001b[0;34m\u001b[0m\u001b[0m\n\u001b[0m\u001b[1;32m      3\u001b[0m \u001b[0;32mfor\u001b[0m \u001b[0mbatch_pred\u001b[0m\u001b[0;34m,\u001b[0m \u001b[0mbatch_gt\u001b[0m \u001b[0;32min\u001b[0m \u001b[0mzip\u001b[0m\u001b[0;34m(\u001b[0m\u001b[0mlist_Pred_Idx\u001b[0m\u001b[0;34m,\u001b[0m\u001b[0mlist_GT_Idx\u001b[0m\u001b[0;34m)\u001b[0m\u001b[0;34m:\u001b[0m\u001b[0;34m\u001b[0m\u001b[0;34m\u001b[0m\u001b[0m\n\u001b[1;32m      4\u001b[0m   \u001b[0;32mfor\u001b[0m \u001b[0mmaps_pred\u001b[0m\u001b[0;34m,\u001b[0m \u001b[0mmaps_gt\u001b[0m \u001b[0;32min\u001b[0m \u001b[0mzip\u001b[0m\u001b[0;34m(\u001b[0m\u001b[0mbatch_pred\u001b[0m\u001b[0;34m,\u001b[0m\u001b[0mbatch_gt\u001b[0m\u001b[0;34m)\u001b[0m\u001b[0;34m:\u001b[0m\u001b[0;34m\u001b[0m\u001b[0;34m\u001b[0m\u001b[0m\n\u001b[1;32m      5\u001b[0m       \u001b[0mxPred\u001b[0m\u001b[0;34m,\u001b[0m \u001b[0myPred\u001b[0m \u001b[0;34m=\u001b[0m \u001b[0mzip\u001b[0m\u001b[0;34m(\u001b[0m\u001b[0mmaps_pred\u001b[0m\u001b[0;34m)\u001b[0m\u001b[0;34m\u001b[0m\u001b[0;34m\u001b[0m\u001b[0m\n",
            "\u001b[0;31mNameError\u001b[0m: name 'plt' is not defined"
          ]
        }
      ]
    },
    {
      "cell_type": "markdown",
      "metadata": {
        "id": "N3KxJD0PTnF8"
      },
      "source": [
        "### Organinzing Data\n",
        "Before we do evaluation and testing, let's organize the data that we are going to evaluate and test."
      ]
    },
    {
      "cell_type": "code",
      "metadata": {
        "id": "V2i40rl1TmUX"
      },
      "source": [
        "### First training\n"
      ],
      "execution_count": null,
      "outputs": []
    },
    {
      "cell_type": "markdown",
      "metadata": {
        "id": "ZBwqsatY_DEH"
      },
      "source": [
        "# Evaluation\n",
        "Evaluate the trained set with the test and validation set"
      ]
    },
    {
      "cell_type": "code",
      "metadata": {
        "id": "-kahFUGML6tW"
      },
      "source": [
        "def test_step(x, y):\n",
        "  val_acc_metric = keras.metrics.SparseCategoricalAccuracy()\n",
        "  val_logits = model(x, training=False)\n",
        "  val_acc_metric.update_state(y, val_logits)"
      ],
      "execution_count": null,
      "outputs": []
    },
    {
      "cell_type": "code",
      "metadata": {
        "id": "D667XexG_Q9W"
      },
      "source": [
        "import time\n",
        "\n",
        "### EVALUATION\n",
        "def evaluation(training_dataset,validation_dataset):\n",
        "  \n",
        "  # Preprocess the datasets:\n",
        "  p_train = pipeline(training_dataset)\n",
        "  p_val = pipeline(validation_dataset)\n",
        "\n",
        "  \n",
        "\n",
        "\n",
        "  return np.mean(loss_val), np.mean(rmse)\n",
        "\n",
        "### TESTING\n",
        "def testing(training_dataset, testing_dataset):\n",
        "  # Preprocess the datasets:\n",
        "  p_train = pipeline(training_dataset)\n",
        "  p_test = pipeline(testing_dataset)\n",
        "\n",
        "  ex_train = p_train.peek()\n",
        "  ex_test = p_test.peek()  \n",
        "\n",
        "  predicted_confmaps_train = model(ex_train[\"instance_image\"])\n",
        "  ground_truth_train = ex_train[\"instance_confidence_maps\"]\n",
        "  \n",
        "  predicted_confmaps_test = model(ex_test[\"instance_image\"])\n",
        "  ground_truth_test = ex_test[\"instance_confidence_maps\"]\n",
        "\n",
        "  list_Pred_Idx_train = getIdx(predicted_confmaps_train)\n",
        "  list_GT_Idx_train = getIdx(ground_truth_train)\n",
        "  \n",
        "  list_Pred_Idx_test = getIdx(predicted_confmaps_test)\n",
        "  list_GT_Idx_test = getIdx(ground_truth_test)\n",
        "\n",
        "  rmse = [avg_rmse(list_Pred_Idx_train, list_GT_Idx_train), avg_rmse(list_Pred_Idx_test, list_GT_Idx_test)]\n",
        "  return np.mean(loss_val), np.mean(rmse)\n"
      ],
      "execution_count": null,
      "outputs": []
    },
    {
      "cell_type": "code",
      "metadata": {
        "colab": {
          "base_uri": "https://localhost:8080/"
        },
        "id": "wQAprRm7PjSf",
        "outputId": "281b1a28-8e3f-4945-e608-5a54bc65907c"
      },
      "source": [
        "dataset = [labels_train, labels_val, labels_test]\n",
        "\n",
        "#evaluation(dataset,'validation_dataset')\n",
        "testing(labels_train, labels_test)"
      ],
      "execution_count": null,
      "outputs": [
        {
          "output_type": "execute_result",
          "data": {
            "text/plain": [
              "(0.0004805837, 3.258192526749203)"
            ]
          },
          "metadata": {
            "tags": []
          },
          "execution_count": 18
        }
      ]
    },
    {
      "cell_type": "code",
      "metadata": {
        "colab": {
          "base_uri": "https://localhost:8080/",
          "height": 232
        },
        "id": "6hfageaEPL8v",
        "outputId": "9cac5a3d-baa2-4160-f22d-6f19647fc08c"
      },
      "source": [
        "# Get model\n",
        "inputs = tf.keras.Input(shape=(784,), name=\"digits\")\n",
        "x = layers.Dense(64, activation=\"relu\", name=\"dense_1\")(inputs)\n",
        "x = layers.Dense(64, activation=\"relu\", name=\"dense_2\")(x)\n",
        "outputs = layers.Dense(10, name=\"predictions\")(x)\n",
        "model = tf.keras.Model(inputs=inputs, outputs=outputs)\n",
        "# Instantiate an optimizer to train the model.\n",
        "optimizer = tf.keras.optimizers.SGD(learning_rate=1e-4)\n",
        "# Instantiate a loss function.\n",
        "loss_fn = tf.keras.losses.SparseCategoricalCrossentropy(from_logits=True)\n",
        "\n",
        "# Prepare the metrics.\n",
        "train_acc_metric = tf.keras.metrics.SparseCategoricalAccuracy(labels_train)\n",
        "val_acc_metric = tf.keras.metrics.SparseCategoricalAccuracy(labels_val)\n",
        "model = tf.keras.Model(inputs=inputs, outputs=outputs)\n",
        "\n",
        "#result(train_acc_metric)"
      ],
      "execution_count": null,
      "outputs": [
        {
          "output_type": "error",
          "ename": "NameError",
          "evalue": "ignored",
          "traceback": [
            "\u001b[0;31m---------------------------------------------------------------------------\u001b[0m",
            "\u001b[0;31mNameError\u001b[0m                                 Traceback (most recent call last)",
            "\u001b[0;32m<ipython-input-2-f5872e42ad45>\u001b[0m in \u001b[0;36m<module>\u001b[0;34m()\u001b[0m\n\u001b[1;32m      1\u001b[0m \u001b[0;31m# Get model\u001b[0m\u001b[0;34m\u001b[0m\u001b[0;34m\u001b[0m\u001b[0;34m\u001b[0m\u001b[0m\n\u001b[0;32m----> 2\u001b[0;31m \u001b[0minputs\u001b[0m \u001b[0;34m=\u001b[0m \u001b[0mtf\u001b[0m\u001b[0;34m.\u001b[0m\u001b[0mkeras\u001b[0m\u001b[0;34m.\u001b[0m\u001b[0mInput\u001b[0m\u001b[0;34m(\u001b[0m\u001b[0mshape\u001b[0m\u001b[0;34m=\u001b[0m\u001b[0;34m(\u001b[0m\u001b[0;36m784\u001b[0m\u001b[0;34m,\u001b[0m\u001b[0;34m)\u001b[0m\u001b[0;34m,\u001b[0m \u001b[0mname\u001b[0m\u001b[0;34m=\u001b[0m\u001b[0;34m\"digits\"\u001b[0m\u001b[0;34m)\u001b[0m\u001b[0;34m\u001b[0m\u001b[0;34m\u001b[0m\u001b[0m\n\u001b[0m\u001b[1;32m      3\u001b[0m \u001b[0mx\u001b[0m \u001b[0;34m=\u001b[0m \u001b[0mlayers\u001b[0m\u001b[0;34m.\u001b[0m\u001b[0mDense\u001b[0m\u001b[0;34m(\u001b[0m\u001b[0;36m64\u001b[0m\u001b[0;34m,\u001b[0m \u001b[0mactivation\u001b[0m\u001b[0;34m=\u001b[0m\u001b[0;34m\"relu\"\u001b[0m\u001b[0;34m,\u001b[0m \u001b[0mname\u001b[0m\u001b[0;34m=\u001b[0m\u001b[0;34m\"dense_1\"\u001b[0m\u001b[0;34m)\u001b[0m\u001b[0;34m(\u001b[0m\u001b[0minputs\u001b[0m\u001b[0;34m)\u001b[0m\u001b[0;34m\u001b[0m\u001b[0;34m\u001b[0m\u001b[0m\n\u001b[1;32m      4\u001b[0m \u001b[0mx\u001b[0m \u001b[0;34m=\u001b[0m \u001b[0mlayers\u001b[0m\u001b[0;34m.\u001b[0m\u001b[0mDense\u001b[0m\u001b[0;34m(\u001b[0m\u001b[0;36m64\u001b[0m\u001b[0;34m,\u001b[0m \u001b[0mactivation\u001b[0m\u001b[0;34m=\u001b[0m\u001b[0;34m\"relu\"\u001b[0m\u001b[0;34m,\u001b[0m \u001b[0mname\u001b[0m\u001b[0;34m=\u001b[0m\u001b[0;34m\"dense_2\"\u001b[0m\u001b[0;34m)\u001b[0m\u001b[0;34m(\u001b[0m\u001b[0mx\u001b[0m\u001b[0;34m)\u001b[0m\u001b[0;34m\u001b[0m\u001b[0;34m\u001b[0m\u001b[0m\n\u001b[1;32m      5\u001b[0m \u001b[0moutputs\u001b[0m \u001b[0;34m=\u001b[0m \u001b[0mlayers\u001b[0m\u001b[0;34m.\u001b[0m\u001b[0mDense\u001b[0m\u001b[0;34m(\u001b[0m\u001b[0;36m10\u001b[0m\u001b[0;34m,\u001b[0m \u001b[0mname\u001b[0m\u001b[0;34m=\u001b[0m\u001b[0;34m\"predictions\"\u001b[0m\u001b[0;34m)\u001b[0m\u001b[0;34m(\u001b[0m\u001b[0mx\u001b[0m\u001b[0;34m)\u001b[0m\u001b[0;34m\u001b[0m\u001b[0;34m\u001b[0m\u001b[0m\n",
            "\u001b[0;31mNameError\u001b[0m: name 'tf' is not defined"
          ]
        }
      ]
    },
    {
      "cell_type": "code",
      "metadata": {
        "id": "rDpnNLwjF_V5"
      },
      "source": [
        "model.compile(\n",
        "    optimizer=tf.keras.optimizers.RMSprop(),  # Optimizer\n",
        "    # Loss function to minimize\n",
        "    loss=tf.keras.losses.SparseCategoricalCrossentropy(),\n",
        "    # List of metrics to monitor\n",
        "    metrics=[val_acc_metric,train_acc_metric],\n",
        ")"
      ],
      "execution_count": null,
      "outputs": []
    },
    {
      "cell_type": "code",
      "metadata": {
        "colab": {
          "base_uri": "https://localhost:8080/",
          "height": 249
        },
        "id": "Dy2pHgJeIyjo",
        "outputId": "31f51c26-8a7a-42cb-af36-2eefbd99ec87"
      },
      "source": [
        "import sys\n",
        "sys.setrecursionlimit(1000000)\n",
        "print(\"Fit model on training data\")\n",
        "history = model.fit(\n",
        "    labels_train,\n",
        "    labels_val,\n",
        "    batch_size=64,\n",
        "    epochs=2,\n",
        "    # We pass some validation for\n",
        "    # monitoring validation loss and metrics\n",
        "    # at the end of each epoch\n",
        "    validation_data=(val_acc_metric,train_acc_metric),\n",
        ")"
      ],
      "execution_count": null,
      "outputs": [
        {
          "output_type": "stream",
          "text": [
            "Fit model on training data\n"
          ],
          "name": "stdout"
        },
        {
          "output_type": "error",
          "ename": "NameError",
          "evalue": "ignored",
          "traceback": [
            "\u001b[0;31m---------------------------------------------------------------------------\u001b[0m",
            "\u001b[0;31mNameError\u001b[0m                                 Traceback (most recent call last)",
            "\u001b[0;32m<ipython-input-1-5f200ea174d0>\u001b[0m in \u001b[0;36m<module>\u001b[0;34m()\u001b[0m\n\u001b[1;32m      2\u001b[0m \u001b[0msys\u001b[0m\u001b[0;34m.\u001b[0m\u001b[0msetrecursionlimit\u001b[0m\u001b[0;34m(\u001b[0m\u001b[0;36m1000000\u001b[0m\u001b[0;34m)\u001b[0m\u001b[0;34m\u001b[0m\u001b[0;34m\u001b[0m\u001b[0m\n\u001b[1;32m      3\u001b[0m \u001b[0mprint\u001b[0m\u001b[0;34m(\u001b[0m\u001b[0;34m\"Fit model on training data\"\u001b[0m\u001b[0;34m)\u001b[0m\u001b[0;34m\u001b[0m\u001b[0;34m\u001b[0m\u001b[0m\n\u001b[0;32m----> 4\u001b[0;31m history = model.fit(\n\u001b[0m\u001b[1;32m      5\u001b[0m     \u001b[0mlabels_train\u001b[0m\u001b[0;34m,\u001b[0m\u001b[0;34m\u001b[0m\u001b[0;34m\u001b[0m\u001b[0m\n\u001b[1;32m      6\u001b[0m     \u001b[0mlabels_val\u001b[0m\u001b[0;34m,\u001b[0m\u001b[0;34m\u001b[0m\u001b[0;34m\u001b[0m\u001b[0m\n",
            "\u001b[0;31mNameError\u001b[0m: name 'model' is not defined"
          ]
        }
      ]
    },
    {
      "cell_type": "markdown",
      "metadata": {
        "id": "NtXgqDW7PKwP"
      },
      "source": [
        "Not so great huh? Train a while longer and see how we do then."
      ]
    },
    {
      "cell_type": "code",
      "metadata": {
        "colab": {
          "base_uri": "https://localhost:8080/",
          "height": 232
        },
        "id": "4lwe1aEqPQid",
        "outputId": "bc4646ce-3e16-4f48-8de8-eb02f1514aaa"
      },
      "source": [
        "epochs = 20\n",
        "for epoch in range(epochs):\n",
        "    for step, ex in enumerate(p.make_dataset()):\n",
        "        loss_val = train_step(ex)\n",
        "        if step % 100 == 0:\n",
        "            print(f\"Epoch {epoch:03d} | Step {step:03d} | loss = {loss_val:.5f}\")"
      ],
      "execution_count": null,
      "outputs": [
        {
          "output_type": "error",
          "ename": "NameError",
          "evalue": "ignored",
          "traceback": [
            "\u001b[0;31m---------------------------------------------------------------------------\u001b[0m",
            "\u001b[0;31mNameError\u001b[0m                                 Traceback (most recent call last)",
            "\u001b[0;32m<ipython-input-30-18bc046fdcac>\u001b[0m in \u001b[0;36m<module>\u001b[0;34m()\u001b[0m\n\u001b[1;32m      1\u001b[0m \u001b[0mepochs\u001b[0m \u001b[0;34m=\u001b[0m \u001b[0;36m20\u001b[0m\u001b[0;34m\u001b[0m\u001b[0;34m\u001b[0m\u001b[0m\n\u001b[1;32m      2\u001b[0m \u001b[0;32mfor\u001b[0m \u001b[0mepoch\u001b[0m \u001b[0;32min\u001b[0m \u001b[0mrange\u001b[0m\u001b[0;34m(\u001b[0m\u001b[0mepochs\u001b[0m\u001b[0;34m)\u001b[0m\u001b[0;34m:\u001b[0m\u001b[0;34m\u001b[0m\u001b[0;34m\u001b[0m\u001b[0m\n\u001b[0;32m----> 3\u001b[0;31m     \u001b[0;32mfor\u001b[0m \u001b[0mstep\u001b[0m\u001b[0;34m,\u001b[0m \u001b[0mex\u001b[0m \u001b[0;32min\u001b[0m \u001b[0menumerate\u001b[0m\u001b[0;34m(\u001b[0m\u001b[0mp\u001b[0m\u001b[0;34m.\u001b[0m\u001b[0mmake_dataset\u001b[0m\u001b[0;34m(\u001b[0m\u001b[0;34m)\u001b[0m\u001b[0;34m)\u001b[0m\u001b[0;34m:\u001b[0m\u001b[0;34m\u001b[0m\u001b[0;34m\u001b[0m\u001b[0m\n\u001b[0m\u001b[1;32m      4\u001b[0m         \u001b[0mloss_val\u001b[0m \u001b[0;34m=\u001b[0m \u001b[0mtrain_step\u001b[0m\u001b[0;34m(\u001b[0m\u001b[0mex\u001b[0m\u001b[0;34m)\u001b[0m\u001b[0;34m\u001b[0m\u001b[0;34m\u001b[0m\u001b[0m\n\u001b[1;32m      5\u001b[0m         \u001b[0;32mif\u001b[0m \u001b[0mstep\u001b[0m \u001b[0;34m%\u001b[0m \u001b[0;36m100\u001b[0m \u001b[0;34m==\u001b[0m \u001b[0;36m0\u001b[0m\u001b[0;34m:\u001b[0m\u001b[0;34m\u001b[0m\u001b[0;34m\u001b[0m\u001b[0m\n",
            "\u001b[0;31mNameError\u001b[0m: name 'p' is not defined"
          ]
        }
      ]
    },
    {
      "cell_type": "code",
      "metadata": {
        "colab": {
          "base_uri": "https://localhost:8080/",
          "height": 361
        },
        "id": "9A6bd_25PTpF",
        "outputId": "f4c39658-c86e-4a91-e529-5c34f7bd1d6f"
      },
      "source": [
        "ex = p.peek()\n",
        "print(type(ex))\n",
        "print(ex.keys())\n",
        "print(ex[\"instance_confidence_maps\"].shape)\n",
        "\n",
        "predicted_confmaps = model(ex[\"instance_confidence_maps\"])\n",
        "\n",
        "i = 0\n",
        "plt.figure(figsize=(12, 4))\n",
        "plt.subplot(1,3,1)\n",
        "plt.imshow(ex[\"instance_image\"][i].numpy().squeeze())\n",
        "plt.title(\"Image (input)\")\n",
        "plt.subplot(1,3,2)\n",
        "plt.imshow(ex[\"instance_confidence_maps\"][i].numpy().max(axis=-1))\n",
        "plt.title(\"True confidence maps (output)\")\n",
        "plt.subplot(1,3,3)\n",
        "plt.imshow(predicted_confmaps[i].numpy().max(axis=-1))\n",
        "plt.title(\"Predicted confidence maps (output)\")"
      ],
      "execution_count": null,
      "outputs": [
        {
          "output_type": "stream",
          "text": [
            "<class 'dict'>\n",
            "dict_keys(['instance_image', 'bbox', 'center_instance', 'center_instance_ind', 'all_instances', 'centroid', 'full_image_height', 'full_image_width', 'raw_image_size', 'example_ind', 'video_ind', 'frame_ind', 'scale', 'skeleton_inds', 'instance_confidence_maps'])\n",
            "(4, 80, 80, 13)\n"
          ],
          "name": "stdout"
        },
        {
          "output_type": "error",
          "ename": "NotFoundError",
          "evalue": "ignored",
          "traceback": [
            "\u001b[0;31m---------------------------------------------------------------------------\u001b[0m",
            "\u001b[0;31mNotFoundError\u001b[0m                             Traceback (most recent call last)",
            "\u001b[0;32m<ipython-input-33-426875cbfa93>\u001b[0m in \u001b[0;36m<module>\u001b[0;34m()\u001b[0m\n\u001b[1;32m      4\u001b[0m \u001b[0mprint\u001b[0m\u001b[0;34m(\u001b[0m\u001b[0mex\u001b[0m\u001b[0;34m[\u001b[0m\u001b[0;34m\"instance_confidence_maps\"\u001b[0m\u001b[0;34m]\u001b[0m\u001b[0;34m.\u001b[0m\u001b[0mshape\u001b[0m\u001b[0;34m)\u001b[0m\u001b[0;34m\u001b[0m\u001b[0;34m\u001b[0m\u001b[0m\n\u001b[1;32m      5\u001b[0m \u001b[0;34m\u001b[0m\u001b[0m\n\u001b[0;32m----> 6\u001b[0;31m \u001b[0mpredicted_confmaps\u001b[0m \u001b[0;34m=\u001b[0m \u001b[0mmodel\u001b[0m\u001b[0;34m(\u001b[0m\u001b[0mex\u001b[0m\u001b[0;34m[\u001b[0m\u001b[0;34m\"instance_confidence_maps\"\u001b[0m\u001b[0;34m]\u001b[0m\u001b[0;34m)\u001b[0m\u001b[0;34m\u001b[0m\u001b[0;34m\u001b[0m\u001b[0m\n\u001b[0m\u001b[1;32m      7\u001b[0m \u001b[0;34m\u001b[0m\u001b[0m\n\u001b[1;32m      8\u001b[0m \u001b[0mi\u001b[0m \u001b[0;34m=\u001b[0m \u001b[0;36m0\u001b[0m\u001b[0;34m\u001b[0m\u001b[0;34m\u001b[0m\u001b[0m\n",
            "\u001b[0;32m/usr/local/lib/python3.7/dist-packages/tensorflow/python/keras/engine/base_layer.py\u001b[0m in \u001b[0;36m__call__\u001b[0;34m(self, *args, **kwargs)\u001b[0m\n\u001b[1;32m    983\u001b[0m \u001b[0;34m\u001b[0m\u001b[0m\n\u001b[1;32m    984\u001b[0m         \u001b[0;32mwith\u001b[0m \u001b[0mops\u001b[0m\u001b[0;34m.\u001b[0m\u001b[0menable_auto_cast_variables\u001b[0m\u001b[0;34m(\u001b[0m\u001b[0mself\u001b[0m\u001b[0;34m.\u001b[0m\u001b[0m_compute_dtype_object\u001b[0m\u001b[0;34m)\u001b[0m\u001b[0;34m:\u001b[0m\u001b[0;34m\u001b[0m\u001b[0;34m\u001b[0m\u001b[0m\n\u001b[0;32m--> 985\u001b[0;31m           \u001b[0moutputs\u001b[0m \u001b[0;34m=\u001b[0m \u001b[0mcall_fn\u001b[0m\u001b[0;34m(\u001b[0m\u001b[0minputs\u001b[0m\u001b[0;34m,\u001b[0m \u001b[0;34m*\u001b[0m\u001b[0margs\u001b[0m\u001b[0;34m,\u001b[0m \u001b[0;34m**\u001b[0m\u001b[0mkwargs\u001b[0m\u001b[0;34m)\u001b[0m\u001b[0;34m\u001b[0m\u001b[0;34m\u001b[0m\u001b[0m\n\u001b[0m\u001b[1;32m    986\u001b[0m \u001b[0;34m\u001b[0m\u001b[0m\n\u001b[1;32m    987\u001b[0m         \u001b[0;32mif\u001b[0m \u001b[0mself\u001b[0m\u001b[0;34m.\u001b[0m\u001b[0m_activity_regularizer\u001b[0m\u001b[0;34m:\u001b[0m\u001b[0;34m\u001b[0m\u001b[0;34m\u001b[0m\u001b[0m\n",
            "\u001b[0;32m/usr/local/lib/python3.7/dist-packages/tensorflow/python/keras/engine/functional.py\u001b[0m in \u001b[0;36mcall\u001b[0;34m(self, inputs, training, mask)\u001b[0m\n\u001b[1;32m    384\u001b[0m     \"\"\"\n\u001b[1;32m    385\u001b[0m     return self._run_internal_graph(\n\u001b[0;32m--> 386\u001b[0;31m         inputs, training=training, mask=mask)\n\u001b[0m\u001b[1;32m    387\u001b[0m \u001b[0;34m\u001b[0m\u001b[0m\n\u001b[1;32m    388\u001b[0m   \u001b[0;32mdef\u001b[0m \u001b[0mcompute_output_shape\u001b[0m\u001b[0;34m(\u001b[0m\u001b[0mself\u001b[0m\u001b[0;34m,\u001b[0m \u001b[0minput_shape\u001b[0m\u001b[0;34m)\u001b[0m\u001b[0;34m:\u001b[0m\u001b[0;34m\u001b[0m\u001b[0;34m\u001b[0m\u001b[0m\n",
            "\u001b[0;32m/usr/local/lib/python3.7/dist-packages/tensorflow/python/keras/engine/functional.py\u001b[0m in \u001b[0;36m_run_internal_graph\u001b[0;34m(self, inputs, training, mask)\u001b[0m\n\u001b[1;32m    506\u001b[0m \u001b[0;34m\u001b[0m\u001b[0m\n\u001b[1;32m    507\u001b[0m         \u001b[0margs\u001b[0m\u001b[0;34m,\u001b[0m \u001b[0mkwargs\u001b[0m \u001b[0;34m=\u001b[0m \u001b[0mnode\u001b[0m\u001b[0;34m.\u001b[0m\u001b[0mmap_arguments\u001b[0m\u001b[0;34m(\u001b[0m\u001b[0mtensor_dict\u001b[0m\u001b[0;34m)\u001b[0m\u001b[0;34m\u001b[0m\u001b[0;34m\u001b[0m\u001b[0m\n\u001b[0;32m--> 508\u001b[0;31m         \u001b[0moutputs\u001b[0m \u001b[0;34m=\u001b[0m \u001b[0mnode\u001b[0m\u001b[0;34m.\u001b[0m\u001b[0mlayer\u001b[0m\u001b[0;34m(\u001b[0m\u001b[0;34m*\u001b[0m\u001b[0margs\u001b[0m\u001b[0;34m,\u001b[0m \u001b[0;34m**\u001b[0m\u001b[0mkwargs\u001b[0m\u001b[0;34m)\u001b[0m\u001b[0;34m\u001b[0m\u001b[0;34m\u001b[0m\u001b[0m\n\u001b[0m\u001b[1;32m    509\u001b[0m \u001b[0;34m\u001b[0m\u001b[0m\n\u001b[1;32m    510\u001b[0m         \u001b[0;31m# Update tensor_dict.\u001b[0m\u001b[0;34m\u001b[0m\u001b[0;34m\u001b[0m\u001b[0;34m\u001b[0m\u001b[0m\n",
            "\u001b[0;32m/usr/local/lib/python3.7/dist-packages/tensorflow/python/keras/engine/base_layer.py\u001b[0m in \u001b[0;36m__call__\u001b[0;34m(self, *args, **kwargs)\u001b[0m\n\u001b[1;32m    983\u001b[0m \u001b[0;34m\u001b[0m\u001b[0m\n\u001b[1;32m    984\u001b[0m         \u001b[0;32mwith\u001b[0m \u001b[0mops\u001b[0m\u001b[0;34m.\u001b[0m\u001b[0menable_auto_cast_variables\u001b[0m\u001b[0;34m(\u001b[0m\u001b[0mself\u001b[0m\u001b[0;34m.\u001b[0m\u001b[0m_compute_dtype_object\u001b[0m\u001b[0;34m)\u001b[0m\u001b[0;34m:\u001b[0m\u001b[0;34m\u001b[0m\u001b[0;34m\u001b[0m\u001b[0m\n\u001b[0;32m--> 985\u001b[0;31m           \u001b[0moutputs\u001b[0m \u001b[0;34m=\u001b[0m \u001b[0mcall_fn\u001b[0m\u001b[0;34m(\u001b[0m\u001b[0minputs\u001b[0m\u001b[0;34m,\u001b[0m \u001b[0;34m*\u001b[0m\u001b[0margs\u001b[0m\u001b[0;34m,\u001b[0m \u001b[0;34m**\u001b[0m\u001b[0mkwargs\u001b[0m\u001b[0;34m)\u001b[0m\u001b[0;34m\u001b[0m\u001b[0;34m\u001b[0m\u001b[0m\n\u001b[0m\u001b[1;32m    986\u001b[0m \u001b[0;34m\u001b[0m\u001b[0m\n\u001b[1;32m    987\u001b[0m         \u001b[0;32mif\u001b[0m \u001b[0mself\u001b[0m\u001b[0;34m.\u001b[0m\u001b[0m_activity_regularizer\u001b[0m\u001b[0;34m:\u001b[0m\u001b[0;34m\u001b[0m\u001b[0;34m\u001b[0m\u001b[0m\n",
            "\u001b[0;32m/usr/local/lib/python3.7/dist-packages/tensorflow/python/keras/layers/convolutional.py\u001b[0m in \u001b[0;36mcall\u001b[0;34m(self, inputs)\u001b[0m\n\u001b[1;32m    245\u001b[0m       \u001b[0minputs\u001b[0m \u001b[0;34m=\u001b[0m \u001b[0marray_ops\u001b[0m\u001b[0;34m.\u001b[0m\u001b[0mpad\u001b[0m\u001b[0;34m(\u001b[0m\u001b[0minputs\u001b[0m\u001b[0;34m,\u001b[0m \u001b[0mself\u001b[0m\u001b[0;34m.\u001b[0m\u001b[0m_compute_causal_padding\u001b[0m\u001b[0;34m(\u001b[0m\u001b[0minputs\u001b[0m\u001b[0;34m)\u001b[0m\u001b[0;34m)\u001b[0m\u001b[0;34m\u001b[0m\u001b[0;34m\u001b[0m\u001b[0m\n\u001b[1;32m    246\u001b[0m \u001b[0;34m\u001b[0m\u001b[0m\n\u001b[0;32m--> 247\u001b[0;31m     \u001b[0moutputs\u001b[0m \u001b[0;34m=\u001b[0m \u001b[0mself\u001b[0m\u001b[0;34m.\u001b[0m\u001b[0m_convolution_op\u001b[0m\u001b[0;34m(\u001b[0m\u001b[0minputs\u001b[0m\u001b[0;34m,\u001b[0m \u001b[0mself\u001b[0m\u001b[0;34m.\u001b[0m\u001b[0mkernel\u001b[0m\u001b[0;34m)\u001b[0m\u001b[0;34m\u001b[0m\u001b[0;34m\u001b[0m\u001b[0m\n\u001b[0m\u001b[1;32m    248\u001b[0m \u001b[0;34m\u001b[0m\u001b[0m\n\u001b[1;32m    249\u001b[0m     \u001b[0;32mif\u001b[0m \u001b[0mself\u001b[0m\u001b[0;34m.\u001b[0m\u001b[0muse_bias\u001b[0m\u001b[0;34m:\u001b[0m\u001b[0;34m\u001b[0m\u001b[0;34m\u001b[0m\u001b[0m\n",
            "\u001b[0;32m/usr/local/lib/python3.7/dist-packages/tensorflow/python/util/dispatch.py\u001b[0m in \u001b[0;36mwrapper\u001b[0;34m(*args, **kwargs)\u001b[0m\n\u001b[1;32m    199\u001b[0m     \u001b[0;34m\"\"\"Call target, and fall back on dispatchers if there is a TypeError.\"\"\"\u001b[0m\u001b[0;34m\u001b[0m\u001b[0;34m\u001b[0m\u001b[0m\n\u001b[1;32m    200\u001b[0m     \u001b[0;32mtry\u001b[0m\u001b[0;34m:\u001b[0m\u001b[0;34m\u001b[0m\u001b[0;34m\u001b[0m\u001b[0m\n\u001b[0;32m--> 201\u001b[0;31m       \u001b[0;32mreturn\u001b[0m \u001b[0mtarget\u001b[0m\u001b[0;34m(\u001b[0m\u001b[0;34m*\u001b[0m\u001b[0margs\u001b[0m\u001b[0;34m,\u001b[0m \u001b[0;34m**\u001b[0m\u001b[0mkwargs\u001b[0m\u001b[0;34m)\u001b[0m\u001b[0;34m\u001b[0m\u001b[0;34m\u001b[0m\u001b[0m\n\u001b[0m\u001b[1;32m    202\u001b[0m     \u001b[0;32mexcept\u001b[0m \u001b[0;34m(\u001b[0m\u001b[0mTypeError\u001b[0m\u001b[0;34m,\u001b[0m \u001b[0mValueError\u001b[0m\u001b[0;34m)\u001b[0m\u001b[0;34m:\u001b[0m\u001b[0;34m\u001b[0m\u001b[0;34m\u001b[0m\u001b[0m\n\u001b[1;32m    203\u001b[0m       \u001b[0;31m# Note: convert_to_eager_tensor currently raises a ValueError, not a\u001b[0m\u001b[0;34m\u001b[0m\u001b[0;34m\u001b[0m\u001b[0;34m\u001b[0m\u001b[0m\n",
            "\u001b[0;32m/usr/local/lib/python3.7/dist-packages/tensorflow/python/ops/nn_ops.py\u001b[0m in \u001b[0;36mconvolution_v2\u001b[0;34m(input, filters, strides, padding, data_format, dilations, name)\u001b[0m\n\u001b[1;32m   1015\u001b[0m       \u001b[0mdata_format\u001b[0m\u001b[0;34m=\u001b[0m\u001b[0mdata_format\u001b[0m\u001b[0;34m,\u001b[0m\u001b[0;34m\u001b[0m\u001b[0;34m\u001b[0m\u001b[0m\n\u001b[1;32m   1016\u001b[0m       \u001b[0mdilations\u001b[0m\u001b[0;34m=\u001b[0m\u001b[0mdilations\u001b[0m\u001b[0;34m,\u001b[0m\u001b[0;34m\u001b[0m\u001b[0;34m\u001b[0m\u001b[0m\n\u001b[0;32m-> 1017\u001b[0;31m       name=name)\n\u001b[0m\u001b[1;32m   1018\u001b[0m \u001b[0;34m\u001b[0m\u001b[0m\n\u001b[1;32m   1019\u001b[0m \u001b[0;34m\u001b[0m\u001b[0m\n",
            "\u001b[0;32m/usr/local/lib/python3.7/dist-packages/tensorflow/python/ops/nn_ops.py\u001b[0m in \u001b[0;36mconvolution_internal\u001b[0;34m(input, filters, strides, padding, data_format, dilations, name, call_from_convolution, num_spatial_dims)\u001b[0m\n\u001b[1;32m   1145\u001b[0m           \u001b[0mdata_format\u001b[0m\u001b[0;34m=\u001b[0m\u001b[0mdata_format\u001b[0m\u001b[0;34m,\u001b[0m\u001b[0;34m\u001b[0m\u001b[0;34m\u001b[0m\u001b[0m\n\u001b[1;32m   1146\u001b[0m           \u001b[0mdilations\u001b[0m\u001b[0;34m=\u001b[0m\u001b[0mdilations\u001b[0m\u001b[0;34m,\u001b[0m\u001b[0;34m\u001b[0m\u001b[0;34m\u001b[0m\u001b[0m\n\u001b[0;32m-> 1147\u001b[0;31m           name=name)\n\u001b[0m\u001b[1;32m   1148\u001b[0m     \u001b[0;32melse\u001b[0m\u001b[0;34m:\u001b[0m\u001b[0;34m\u001b[0m\u001b[0;34m\u001b[0m\u001b[0m\n\u001b[1;32m   1149\u001b[0m       \u001b[0;32mif\u001b[0m \u001b[0mchannel_index\u001b[0m \u001b[0;34m==\u001b[0m \u001b[0;36m1\u001b[0m\u001b[0;34m:\u001b[0m\u001b[0;34m\u001b[0m\u001b[0;34m\u001b[0m\u001b[0m\n",
            "\u001b[0;32m/usr/local/lib/python3.7/dist-packages/tensorflow/python/ops/nn_ops.py\u001b[0m in \u001b[0;36m_conv2d_expanded_batch\u001b[0;34m(input, filters, strides, padding, data_format, dilations, name)\u001b[0m\n\u001b[1;32m   2589\u001b[0m         \u001b[0mdata_format\u001b[0m\u001b[0;34m=\u001b[0m\u001b[0mdata_format\u001b[0m\u001b[0;34m,\u001b[0m\u001b[0;34m\u001b[0m\u001b[0;34m\u001b[0m\u001b[0m\n\u001b[1;32m   2590\u001b[0m         \u001b[0mdilations\u001b[0m\u001b[0;34m=\u001b[0m\u001b[0mdilations\u001b[0m\u001b[0;34m,\u001b[0m\u001b[0;34m\u001b[0m\u001b[0;34m\u001b[0m\u001b[0m\n\u001b[0;32m-> 2591\u001b[0;31m         name=name)\n\u001b[0m\u001b[1;32m   2592\u001b[0m   return squeeze_batch_dims(\n\u001b[1;32m   2593\u001b[0m       \u001b[0minput\u001b[0m\u001b[0;34m,\u001b[0m\u001b[0;34m\u001b[0m\u001b[0;34m\u001b[0m\u001b[0m\n",
            "\u001b[0;32m/usr/local/lib/python3.7/dist-packages/tensorflow/python/ops/gen_nn_ops.py\u001b[0m in \u001b[0;36mconv2d\u001b[0;34m(input, filter, strides, padding, use_cudnn_on_gpu, explicit_paddings, data_format, dilations, name)\u001b[0m\n\u001b[1;32m    936\u001b[0m       \u001b[0;32mreturn\u001b[0m \u001b[0m_result\u001b[0m\u001b[0;34m\u001b[0m\u001b[0;34m\u001b[0m\u001b[0m\n\u001b[1;32m    937\u001b[0m     \u001b[0;32mexcept\u001b[0m \u001b[0m_core\u001b[0m\u001b[0;34m.\u001b[0m\u001b[0m_NotOkStatusException\u001b[0m \u001b[0;32mas\u001b[0m \u001b[0me\u001b[0m\u001b[0;34m:\u001b[0m\u001b[0;34m\u001b[0m\u001b[0;34m\u001b[0m\u001b[0m\n\u001b[0;32m--> 938\u001b[0;31m       \u001b[0m_ops\u001b[0m\u001b[0;34m.\u001b[0m\u001b[0mraise_from_not_ok_status\u001b[0m\u001b[0;34m(\u001b[0m\u001b[0me\u001b[0m\u001b[0;34m,\u001b[0m \u001b[0mname\u001b[0m\u001b[0;34m)\u001b[0m\u001b[0;34m\u001b[0m\u001b[0;34m\u001b[0m\u001b[0m\n\u001b[0m\u001b[1;32m    939\u001b[0m     \u001b[0;32mexcept\u001b[0m \u001b[0m_core\u001b[0m\u001b[0;34m.\u001b[0m\u001b[0m_FallbackException\u001b[0m\u001b[0;34m:\u001b[0m\u001b[0;34m\u001b[0m\u001b[0;34m\u001b[0m\u001b[0m\n\u001b[1;32m    940\u001b[0m       \u001b[0;32mpass\u001b[0m\u001b[0;34m\u001b[0m\u001b[0;34m\u001b[0m\u001b[0m\n",
            "\u001b[0;32m/usr/local/lib/python3.7/dist-packages/tensorflow/python/framework/ops.py\u001b[0m in \u001b[0;36mraise_from_not_ok_status\u001b[0;34m(e, name)\u001b[0m\n\u001b[1;32m   6841\u001b[0m   \u001b[0mmessage\u001b[0m \u001b[0;34m=\u001b[0m \u001b[0me\u001b[0m\u001b[0;34m.\u001b[0m\u001b[0mmessage\u001b[0m \u001b[0;34m+\u001b[0m \u001b[0;34m(\u001b[0m\u001b[0;34m\" name: \"\u001b[0m \u001b[0;34m+\u001b[0m \u001b[0mname\u001b[0m \u001b[0;32mif\u001b[0m \u001b[0mname\u001b[0m \u001b[0;32mis\u001b[0m \u001b[0;32mnot\u001b[0m \u001b[0;32mNone\u001b[0m \u001b[0;32melse\u001b[0m \u001b[0;34m\"\"\u001b[0m\u001b[0;34m)\u001b[0m\u001b[0;34m\u001b[0m\u001b[0;34m\u001b[0m\u001b[0m\n\u001b[1;32m   6842\u001b[0m   \u001b[0;31m# pylint: disable=protected-access\u001b[0m\u001b[0;34m\u001b[0m\u001b[0;34m\u001b[0m\u001b[0;34m\u001b[0m\u001b[0m\n\u001b[0;32m-> 6843\u001b[0;31m   \u001b[0msix\u001b[0m\u001b[0;34m.\u001b[0m\u001b[0mraise_from\u001b[0m\u001b[0;34m(\u001b[0m\u001b[0mcore\u001b[0m\u001b[0;34m.\u001b[0m\u001b[0m_status_to_exception\u001b[0m\u001b[0;34m(\u001b[0m\u001b[0me\u001b[0m\u001b[0;34m.\u001b[0m\u001b[0mcode\u001b[0m\u001b[0;34m,\u001b[0m \u001b[0mmessage\u001b[0m\u001b[0;34m)\u001b[0m\u001b[0;34m,\u001b[0m \u001b[0;32mNone\u001b[0m\u001b[0;34m)\u001b[0m\u001b[0;34m\u001b[0m\u001b[0;34m\u001b[0m\u001b[0m\n\u001b[0m\u001b[1;32m   6844\u001b[0m   \u001b[0;31m# pylint: enable=protected-access\u001b[0m\u001b[0;34m\u001b[0m\u001b[0;34m\u001b[0m\u001b[0;34m\u001b[0m\u001b[0m\n\u001b[1;32m   6845\u001b[0m \u001b[0;34m\u001b[0m\u001b[0m\n",
            "\u001b[0;32m/usr/local/lib/python3.7/dist-packages/six.py\u001b[0m in \u001b[0;36mraise_from\u001b[0;34m(value, from_value)\u001b[0m\n",
            "\u001b[0;31mNotFoundError\u001b[0m: No algorithm worked! [Op:Conv2D]"
          ]
        }
      ]
    }
  ]
}